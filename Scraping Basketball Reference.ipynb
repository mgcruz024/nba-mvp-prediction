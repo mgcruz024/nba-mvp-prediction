{
 "cells": [
  {
   "cell_type": "markdown",
   "id": "4eb3b310",
   "metadata": {},
   "source": [
    "# Pulling Player and Team Statistics from Basketball Reference\n",
    "\n",
    "\n",
    "<img src=\"https://cdn-images.threadless.com/threadless-media/artist_shops/shops/sportsreference/products/2221993/original-1629136380-edc18e43dd8b4ed5e652b79b4dc0d8a7.png?v=3&amp;d=eyJvcHMiOiBbWyJ0cmltIiwgW2ZhbHNlLCBmYWxzZV0sIHt9XSwgWyJyZXNpemUiLCBbXSwgeyJ3aWR0aCI6IDk5Ni4wLCAiYWxsb3dfdXAiOiBmYWxzZSwgImhlaWdodCI6IDk5Ni4wfV0sIFsiY2FudmFzX2NlbnRlcmVkIiwgWzEyMDAsIDEyMDBdLCB7ImJhY2tncm91bmQiOiAiZmZmZmZmIn1dLCBbInJlc2l6ZSIsIFs4MDBdLCB7fV0sIFsiY2FudmFzX2NlbnRlcmVkIiwgWzgwMCwgODAwLCAiI2ZmZmZmZiJdLCB7fV0sIFsiZW5jb2RlIiwgWyJqcGciLCA4NV0sIHt9XV0sICJmb3JjZSI6IGZhbHNlLCAib25seV9tZXRhIjogZmFsc2V9\" style=\"max-width: 500px; height: 500px; width: 500px\">\n"
   ]
  },
  {
   "cell_type": "markdown",
   "id": "b7f5574f",
   "metadata": {},
   "source": [
    "# Import libraries"
   ]
  },
  {
   "cell_type": "code",
   "execution_count": 31,
   "id": "c17c8cec",
   "metadata": {},
   "outputs": [],
   "source": [
    "import pandas as pd\n",
    "import numpy as np\n",
    "from urllib.request import urlopen\n",
    "from bs4 import BeautifulSoup"
   ]
  },
  {
   "cell_type": "markdown",
   "id": "0ee7bc9b",
   "metadata": {},
   "source": [
    "# Scrape Basketball Reference"
   ]
  },
  {
   "cell_type": "code",
   "execution_count": 87,
   "id": "e8dd9964",
   "metadata": {},
   "outputs": [],
   "source": [
    "# scraping the data into csv \n",
    "\n",
    "path_data = r'C:\\Users\\migoc\\DATA\\JUPYTER WORK\\01 DATA PROJECTS\\NBA MVP Prediction - Miguel'\n",
    "sep = r'/'\n",
    "\n",
    "def scrape_bball_ref(stats,stats_names,seasons):\n",
    "    \"\"\"Scapes Basketball Reference for a particular season and statistical category.\"\"\"\n",
    "    \n",
    "    for season in seasons:\n",
    "        season_name = str(season)+\"-\"+str(season+1)[-2:] \n",
    "            \n",
    "        for stat in stats: # looping through each stat that we want\n",
    "            for stat_name in stats_names:\n",
    "                print(season_name+\" \"+stat_name)\n",
    "                url = f'https://www.basketball-reference.com/leagues/NBA_{season}_{stat}.html'\n",
    "                html = urlopen(url)\n",
    "                soup = BeautifulSoup(html, features=\"lxml\")\n",
    "                print(url) \n",
    "\n",
    "                headers = [th.getText() for th in soup.findAll('tr', limit=2)[0].findAll('th')]\n",
    "\n",
    "\n",
    "                rows = soup.findAll('tr')[1:]\n",
    "                rows_data = [[td.getText() for td in rows[i].findAll('td')]\n",
    "                                    for i in range(len(rows))]\n",
    "\n",
    "                # we're missing the rank colum\n",
    "                # add the rank into rows_data\n",
    "                last_rank = 1\n",
    "                for i in range(0, len(rows_data)):\n",
    "                    rows_data[i].insert(0, last_rank)\n",
    "                    last_rank +=1        \n",
    "\n",
    "                scraped_df = pd.DataFrame(rows_data, columns = headers)\n",
    "                scraped_df.to_csv(path_data+sep+season_name+\" \"+stat_name+\".csv\", index=False)\n",
    "\n",
    "\n",
    "    "
   ]
  },
  {
   "cell_type": "markdown",
   "id": "5b2824d9",
   "metadata": {},
   "source": [
    "## Season and Statistic parameters"
   ]
  },
  {
   "cell_type": "code",
   "execution_count": 89,
   "id": "2e938338",
   "metadata": {},
   "outputs": [],
   "source": [
    "stats = ['per_game','totals','advanced'] # stats as named on the website\n",
    "stats_names = ['Per Game','Totals','Advanced']\n",
    "seasons = np.arange(2001,2023,1).tolist() #we want the seasons from 2001-2023\n",
    "\n",
    "scrape_bball_ref(stats,stats_names,seasons) # you might want to limit a request for 10 seasons at a time..."
   ]
  }
 ],
 "metadata": {
  "kernelspec": {
   "display_name": "Python 3 (ipykernel)",
   "language": "python",
   "name": "python3"
  },
  "language_info": {
   "codemirror_mode": {
    "name": "ipython",
    "version": 3
   },
   "file_extension": ".py",
   "mimetype": "text/x-python",
   "name": "python",
   "nbconvert_exporter": "python",
   "pygments_lexer": "ipython3",
   "version": "3.11.5"
  }
 },
 "nbformat": 4,
 "nbformat_minor": 5
}
